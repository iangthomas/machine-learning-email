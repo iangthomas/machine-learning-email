{
 "cells": [
  {
   "cell_type": "markdown",
   "metadata": {},
   "source": [
    "# Capstone: Part 2"
   ]
  },
  {
   "cell_type": "markdown",
   "metadata": {},
   "source": [
    "## Executive Summary"
   ]
  },
  {
   "cell_type": "markdown",
   "metadata": {},
   "source": [
    "Today, E-Mail programs organize emails simply by date received. All emails, be they ones that require an immediate reply, ones that are spam, or ones that are simply informational (and thus can be read anytime) are treated the same. \n",
    "\n",
    "Can machine learning be used to ***improve the visibility of action-required emails***, while’s still preserving informational emails and also removing spam?\n",
    "\n",
    "The ***key metric is recall rate*** from each model, highest is best\n",
    "\n",
    "After EDA and dimensionality reduction, several models were experimented on to see how they fit the data. Models with high degrees of recall in both the “action” and “non-action” were emphasized. Both tfidf and word vectorization methods were tested, with each being better on alternating models. Ultimately a LinearSVC, with tfidf vectorization was selected, achieving recall rates of 75% on the test data.\n",
    "\n",
    "After creating these models, they were brought to the iOS platform for testing and mass deployment utilizing Apple’s Core Machine Learning framework."
   ]
  },
  {
   "cell_type": "markdown",
   "metadata": {},
   "source": [
    "## Project Diagram\n",
    "![caption](files/graphics/system-diagram.jpeg)"
   ]
  },
  {
   "cell_type": "code",
   "execution_count": null,
   "metadata": {},
   "outputs": [],
   "source": [
    "# these install's must be run these in this specific order\n",
    "!pip install pyenv"
   ]
  },
  {
   "cell_type": "code",
   "execution_count": null,
   "metadata": {},
   "outputs": [],
   "source": [
    "!pip install coremltools"
   ]
  },
  {
   "cell_type": "code",
   "execution_count": null,
   "metadata": {
    "collapsed": true
   },
   "outputs": [],
   "source": [
    "#todo make a use case when the works the best\n",
    "#todo look at proper nouns\n",
    "# ask about ther forms of eda to do"
   ]
  },
  {
   "cell_type": "code",
   "execution_count": null,
   "metadata": {},
   "outputs": [],
   "source": [
    "import pandas as pd\n",
    "from sklearn.svm import LinearSVC\n",
    "import coremltools\n",
    "from sklearn.model_selection import GridSearchCV, ShuffleSplit\n",
    "from sklearn.linear_model import ElasticNet\n",
    "from sklearn.model_selection import train_test_split\n",
    "from sklearn.pipeline import Pipeline\n",
    "from sklearn.feature_extraction.text import CountVectorizer\n",
    "from sklearn.feature_extraction.text import TfidfTransformer\n",
    "from sklearn.feature_extraction.text import TfidfVectorizer\n",
    "from sklearn.svm import LinearSVC\n",
    "from sklearn.ensemble import RandomForestClassifier\n",
    "from sklearn.metrics import classification_report\n",
    "from sklearn.naive_bayes import MultinomialNB\n",
    "from sklearn.model_selection import GridSearchCV\n",
    "from sklearn.svm import SVC, LinearSVC\n",
    "import csv\n",
    "import numpy as np\n",
    "import matplotlib.pyplot as plt\n",
    "from sklearn.metrics import precision_recall_fscore_support\n"
   ]
  },
  {
   "cell_type": "markdown",
   "metadata": {},
   "source": [
    "## Target Models\n",
    "This project requires building two models, a spam / not-spam model, plus an “action or informational” model. An extensive labeled dataset was retrieved for spam/not-spam, while a partially usable dataset was retrieved for “action or informational”. That dataset categorized mails into “action required” and not action required. This dataset was used as the basis, and Amazon Mechanical Turk was used to generate a new dataset more precisely suited to project."
   ]
  },
  {
   "cell_type": "code",
   "execution_count": null,
   "metadata": {},
   "outputs": [],
   "source": [
    "# Nav to datasets directory\n",
    "%cd\n",
    "%cd work/Dropbox/ga/capstone/\"core ml\"/datasets/action\n",
    "%ls"
   ]
  },
  {
   "cell_type": "code",
   "execution_count": null,
   "metadata": {},
   "outputs": [],
   "source": [
    "df_old_action = pd.read_table(\"trainSet.txt\", header=None)\n",
    "df_old_action.columns = [\"action\",\"content\"]"
   ]
  },
  {
   "cell_type": "code",
   "execution_count": null,
   "metadata": {
    "collapsed": true
   },
   "outputs": [],
   "source": [
    "df_old_action_test = pd.read_table(\"testSet.txt\", header=None)\n",
    "df_old_action_test.columns = [\"action\",\"content\"]"
   ]
  },
  {
   "cell_type": "code",
   "execution_count": null,
   "metadata": {},
   "outputs": [],
   "source": [
    "# We will sure cross validation to test the data,\n",
    "# so we combine the origional \"train\" and \"test\" sets\n",
    "df_old_action = df_old_action.append(df_old_action_test)"
   ]
  },
  {
   "cell_type": "code",
   "execution_count": null,
   "metadata": {},
   "outputs": [],
   "source": [
    "# take a sample to verify the df looks correct\n",
    "df_old_action.sample(3)"
   ]
  },
  {
   "cell_type": "code",
   "execution_count": null,
   "metadata": {
    "collapsed": true
   },
   "outputs": [],
   "source": []
  },
  {
   "cell_type": "code",
   "execution_count": null,
   "metadata": {},
   "outputs": [],
   "source": [
    "# match columns with a future dataset\n",
    "df_old_action.columns = ['final_label', 'email']"
   ]
  },
  {
   "cell_type": "code",
   "execution_count": null,
   "metadata": {},
   "outputs": [],
   "source": [
    "def convert_dataset(row):\n",
    "    if row['final_label'] == 'No':\n",
    "        row['final_label'] = 'Neither'\n",
    "    elif row['final_label'] == 'Yes':\n",
    "        row['final_label'] = 'Action Required'\n",
    "    return row"
   ]
  },
  {
   "cell_type": "code",
   "execution_count": null,
   "metadata": {},
   "outputs": [],
   "source": [
    "df_old_action = df_old_action.apply(convert_dataset, axis = 1)"
   ]
  },
  {
   "cell_type": "code",
   "execution_count": null,
   "metadata": {},
   "outputs": [],
   "source": [
    "df_old_action.sample(2)"
   ]
  },
  {
   "cell_type": "markdown",
   "metadata": {},
   "source": [
    "## Mechanical Turk:\n",
    "Contributors were asked to label emails as “Action Required”, “Read Later” or “Neither”. They were given the following prompt\n",
    "“Your name is Sally Beck, these are your emails. You have to decide\n",
    "\n",
    "1) if these emails ask you to perform some action, like replying or doing something in real life. Or \n",
    "2) if the E-Mail can be read later. For example, it just contains general information.”"
   ]
  },
  {
   "cell_type": "markdown",
   "metadata": {},
   "source": [
    "## Mechanical Truk Diagram\n",
    "![caption](files/graphics/turk-diagram.jpeg)"
   ]
  },
  {
   "cell_type": "markdown",
   "metadata": {},
   "source": [
    "### Mechanical Truk Question Example\n",
    "![caption](files/graphics/turk-example.png)"
   ]
  },
  {
   "cell_type": "code",
   "execution_count": null,
   "metadata": {
    "collapsed": true
   },
   "outputs": [],
   "source": [
    "# add the truk generated dataset, as many as possible\n",
    "import glob\n",
    "list_of_turk_generated_files = glob.glob(\"/home/jovyan/work/Dropbox/ga/capstone/core ml/datasets/turk/*.csv\")"
   ]
  },
  {
   "cell_type": "code",
   "execution_count": null,
   "metadata": {
    "collapsed": true
   },
   "outputs": [],
   "source": [
    "full_responce_dictionary = {}\n",
    "def add_responce_to_dict(row):\n",
    "    key = row['email']\n",
    "    category = row['Answer']\n",
    "    if key not in full_responce_dictionary:\n",
    "        # add key\n",
    "        full_responce_dictionary[key] = [category]\n",
    "    else:\n",
    "        # append the responce to list of responces\n",
    "        current_list = full_responce_dictionary[key]\n",
    "        current_list.append(category)\n",
    "        #print (new_list)\n",
    "        full_responce_dictionary[key] = current_list"
   ]
  },
  {
   "cell_type": "code",
   "execution_count": null,
   "metadata": {},
   "outputs": [],
   "source": [
    "for file_path in list_of_turk_generated_files:\n",
    "    batch_df = pd.read_csv(file_path)\n",
    "    batch_df.apply(add_responce_to_dict, axis = 1)"
   ]
  },
  {
   "cell_type": "code",
   "execution_count": null,
   "metadata": {},
   "outputs": [],
   "source": [
    "#for key in full_responce_dictionary.keys():\n",
    "#    print (full_responce_dictionary[key])"
   ]
  },
  {
   "cell_type": "code",
   "execution_count": null,
   "metadata": {
    "collapsed": true
   },
   "outputs": [],
   "source": [
    "# look for mis-matches\n",
    "# get keys where there is only one opinion\n",
    "# we use this list to get more\n",
    "list_of_missing_values = []\n",
    "for key in full_responce_dictionary.keys():\n",
    "    values = full_responce_dictionary[key]\n",
    "    if len(values) == 1:\n",
    "        list_of_missing_values.append(key)"
   ]
  },
  {
   "cell_type": "code",
   "execution_count": null,
   "metadata": {},
   "outputs": [],
   "source": [
    "print (len(list_of_missing_values))"
   ]
  },
  {
   "cell_type": "code",
   "execution_count": null,
   "metadata": {
    "collapsed": true
   },
   "outputs": [],
   "source": [
    "def export_list_as_csv(title, list_to_export):\n",
    "    with open(title, \"w\") as output:\n",
    "        writer = csv.writer(output, lineterminator='\\n')\n",
    "        for value in list_to_export:\n",
    "            writer.writerow([value])   "
   ]
  },
  {
   "cell_type": "code",
   "execution_count": null,
   "metadata": {},
   "outputs": [],
   "source": [
    "export_list_as_csv(\"missingKeys.csv\", list_of_missing_values)"
   ]
  },
  {
   "cell_type": "code",
   "execution_count": null,
   "metadata": {},
   "outputs": [],
   "source": [
    "list_of_disagreeing_rows = []\n",
    "for key in full_responce_dictionary.keys():\n",
    "    values = full_responce_dictionary[key]\n",
    "    if values[0] != values[1]:\n",
    "        new_dict = {'email': key, 'label_1': values[0], 'label_2': values[1]}\n",
    "        list_of_disagreeing_rows.append(new_dict)"
   ]
  },
  {
   "cell_type": "code",
   "execution_count": null,
   "metadata": {},
   "outputs": [],
   "source": [
    "with open(\"dis.csv\", \"w\") as output:\n",
    "        writer = csv.writer(output, lineterminator='\\n')\n",
    "        for value in list_of_disagreeing_rows:\n",
    "            writer.writerow([value]) "
   ]
  },
  {
   "cell_type": "code",
   "execution_count": null,
   "metadata": {
    "collapsed": true
   },
   "outputs": [],
   "source": []
  },
  {
   "cell_type": "code",
   "execution_count": null,
   "metadata": {},
   "outputs": [],
   "source": [
    "# get convert all the values into a dataframe\n",
    "list_of_rows = []\n",
    "for key in full_responce_dictionary.keys():\n",
    "    values = full_responce_dictionary[key]\n",
    "    new_dict = {'email': key, 'label_1': values[0], 'label_2': values[1]}\n",
    "    list_of_rows.append(new_dict)"
   ]
  },
  {
   "cell_type": "code",
   "execution_count": null,
   "metadata": {
    "collapsed": true
   },
   "outputs": [],
   "source": [
    "df_action = pd.DataFrame(list_of_rows)"
   ]
  },
  {
   "cell_type": "code",
   "execution_count": null,
   "metadata": {},
   "outputs": [],
   "source": [
    "df_action.sample(5)"
   ]
  },
  {
   "cell_type": "code",
   "execution_count": null,
   "metadata": {},
   "outputs": [],
   "source": []
  },
  {
   "cell_type": "code",
   "execution_count": 24,
   "metadata": {},
   "outputs": [],
   "source": [
    "def get_final_label(row):\n",
    "    if row['label_1'] == row['label_2']:\n",
    "        row[\"final_label\"] = row['label_1']\n",
    "    else:\n",
    "        row[\"final_label\"] = \"disagree\"\n",
    "    return row"
   ]
  },
  {
   "cell_type": "code",
   "execution_count": 25,
   "metadata": {},
   "outputs": [],
   "source": [
    "df_action = df_action.apply(get_final_label, axis = 1)"
   ]
  },
  {
   "cell_type": "code",
   "execution_count": 26,
   "metadata": {},
   "outputs": [
    {
     "data": {
      "text/html": [
       "<div>\n",
       "<table border=\"1\" class=\"dataframe\">\n",
       "  <thead>\n",
       "    <tr style=\"text-align: right;\">\n",
       "      <th></th>\n",
       "      <th>email</th>\n",
       "      <th>label_1</th>\n",
       "      <th>label_2</th>\n",
       "      <th>final_label</th>\n",
       "    </tr>\n",
       "  </thead>\n",
       "  <tbody>\n",
       "    <tr>\n",
       "      <th>0</th>\n",
       "      <td>I do have a \\nfew other thoughts to share that...</td>\n",
       "      <td>Read Later</td>\n",
       "      <td>Read Later</td>\n",
       "      <td>Read Later</td>\n",
       "    </tr>\n",
       "    <tr>\n",
       "      <th>1</th>\n",
       "      <td>A decision will be made this evening on whethe...</td>\n",
       "      <td>Read Later</td>\n",
       "      <td>Action Required</td>\n",
       "      <td>disagree</td>\n",
       "    </tr>\n",
       "    <tr>\n",
       "      <th>2</th>\n",
       "      <td>Gerald,\\n\\nThe ammendment with the mark up we ...</td>\n",
       "      <td>Read Later</td>\n",
       "      <td>Read Later</td>\n",
       "      <td>Read Later</td>\n",
       "    </tr>\n",
       "    <tr>\n",
       "      <th>3</th>\n",
       "      <td>Weren't we supposed to be having a meeting on ...</td>\n",
       "      <td>Action Required</td>\n",
       "      <td>Action Required</td>\n",
       "      <td>Action Required</td>\n",
       "    </tr>\n",
       "    <tr>\n",
       "      <th>4</th>\n",
       "      <td>Earlier today DPC notified the government of M...</td>\n",
       "      <td>Action Required</td>\n",
       "      <td>Neither</td>\n",
       "      <td>disagree</td>\n",
       "    </tr>\n",
       "  </tbody>\n",
       "</table>\n",
       "</div>"
      ],
      "text/plain": [
       "                                               email          label_1  \\\n",
       "0  I do have a \\nfew other thoughts to share that...       Read Later   \n",
       "1  A decision will be made this evening on whethe...       Read Later   \n",
       "2  Gerald,\\n\\nThe ammendment with the mark up we ...       Read Later   \n",
       "3  Weren't we supposed to be having a meeting on ...  Action Required   \n",
       "4  Earlier today DPC notified the government of M...  Action Required   \n",
       "\n",
       "           label_2      final_label  \n",
       "0       Read Later       Read Later  \n",
       "1  Action Required         disagree  \n",
       "2       Read Later       Read Later  \n",
       "3  Action Required  Action Required  \n",
       "4          Neither         disagree  "
      ]
     },
     "execution_count": 26,
     "metadata": {},
     "output_type": "execute_result"
    }
   ],
   "source": [
    "df_action.head()"
   ]
  },
  {
   "cell_type": "code",
   "execution_count": 27,
   "metadata": {
    "collapsed": true
   },
   "outputs": [],
   "source": [
    "#todo plot agree and disagree"
   ]
  },
  {
   "cell_type": "code",
   "execution_count": 28,
   "metadata": {},
   "outputs": [
    {
     "data": {
      "text/plain": [
       "final_label\n",
       "Action Required    34\n",
       "Read Later         30\n",
       "disagree           38\n",
       "dtype: int64"
      ]
     },
     "execution_count": 28,
     "metadata": {},
     "output_type": "execute_result"
    }
   ],
   "source": [
    "df_action.groupby(\"final_label\").size()"
   ]
  },
  {
   "cell_type": "code",
   "execution_count": 29,
   "metadata": {},
   "outputs": [],
   "source": [
    "df_disagree = df_action[df_action['final_label'] == 'disagree']"
   ]
  },
  {
   "cell_type": "code",
   "execution_count": 30,
   "metadata": {},
   "outputs": [
    {
     "data": {
      "text/plain": [
       "(38, 4)"
      ]
     },
     "execution_count": 30,
     "metadata": {},
     "output_type": "execute_result"
    }
   ],
   "source": [
    "df_disagree.shape\n",
    "# 34 disagree"
   ]
  },
  {
   "cell_type": "code",
   "execution_count": 31,
   "metadata": {},
   "outputs": [],
   "source": [
    "df_disagree.to_csv(\"disagree.csv\")"
   ]
  },
  {
   "cell_type": "code",
   "execution_count": 32,
   "metadata": {},
   "outputs": [],
   "source": [
    "# todo graph how each one disagrees"
   ]
  },
  {
   "cell_type": "code",
   "execution_count": 33,
   "metadata": {},
   "outputs": [],
   "source": [
    "# fix externally then re import"
   ]
  },
  {
   "cell_type": "code",
   "execution_count": 34,
   "metadata": {},
   "outputs": [],
   "source": [
    "fixed_label_action_df = pd.read_csv('disagree_labeled.csv')"
   ]
  },
  {
   "cell_type": "code",
   "execution_count": 35,
   "metadata": {},
   "outputs": [
    {
     "data": {
      "text/html": [
       "<div>\n",
       "<table border=\"1\" class=\"dataframe\">\n",
       "  <thead>\n",
       "    <tr style=\"text-align: right;\">\n",
       "      <th></th>\n",
       "      <th>Unnamed: 0</th>\n",
       "      <th>email</th>\n",
       "      <th>label_1</th>\n",
       "      <th>label_2</th>\n",
       "      <th>final_label</th>\n",
       "    </tr>\n",
       "  </thead>\n",
       "  <tbody>\n",
       "    <tr>\n",
       "      <th>0</th>\n",
       "      <td>1</td>\n",
       "      <td>A decision will be made this evening on whethe...</td>\n",
       "      <td>Read Later</td>\n",
       "      <td>Action Required</td>\n",
       "      <td>Action Required</td>\n",
       "    </tr>\n",
       "    <tr>\n",
       "      <th>1</th>\n",
       "      <td>4</td>\n",
       "      <td>Earlier today DPC notified the government of M...</td>\n",
       "      <td>Action Required</td>\n",
       "      <td>Neither</td>\n",
       "      <td>Neither</td>\n",
       "    </tr>\n",
       "    <tr>\n",
       "      <th>2</th>\n",
       "      <td>6</td>\n",
       "      <td>As indicated on the voice mail, here is our id...</td>\n",
       "      <td>Action Required</td>\n",
       "      <td>Read Later</td>\n",
       "      <td>Action Required</td>\n",
       "    </tr>\n",
       "    <tr>\n",
       "      <th>3</th>\n",
       "      <td>8</td>\n",
       "      <td>There will be a meeting on Tuesday, Dec. 5th i...</td>\n",
       "      <td>Action Required</td>\n",
       "      <td>Read Later</td>\n",
       "      <td>Action Required</td>\n",
       "    </tr>\n",
       "    <tr>\n",
       "      <th>4</th>\n",
       "      <td>11</td>\n",
       "      <td>Hi - I just wanted to give you a quick run dow...</td>\n",
       "      <td>Read Later</td>\n",
       "      <td>Action Required</td>\n",
       "      <td>Read Later</td>\n",
       "    </tr>\n",
       "  </tbody>\n",
       "</table>\n",
       "</div>"
      ],
      "text/plain": [
       "   Unnamed: 0                                              email  \\\n",
       "0           1  A decision will be made this evening on whethe...   \n",
       "1           4  Earlier today DPC notified the government of M...   \n",
       "2           6  As indicated on the voice mail, here is our id...   \n",
       "3           8  There will be a meeting on Tuesday, Dec. 5th i...   \n",
       "4          11  Hi - I just wanted to give you a quick run dow...   \n",
       "\n",
       "           label_1          label_2      final_label  \n",
       "0       Read Later  Action Required  Action Required  \n",
       "1  Action Required          Neither          Neither  \n",
       "2  Action Required       Read Later  Action Required  \n",
       "3  Action Required       Read Later  Action Required  \n",
       "4       Read Later  Action Required       Read Later  "
      ]
     },
     "execution_count": 35,
     "metadata": {},
     "output_type": "execute_result"
    }
   ],
   "source": [
    "fixed_label_action_df.head()"
   ]
  },
  {
   "cell_type": "code",
   "execution_count": 36,
   "metadata": {},
   "outputs": [
    {
     "data": {
      "text/plain": [
       "Index([u'Unnamed: 0', u'email', u'label_1', u'label_2', u'final_label'], dtype='object')"
      ]
     },
     "execution_count": 36,
     "metadata": {},
     "output_type": "execute_result"
    }
   ],
   "source": [
    "fixed_label_action_df.columns"
   ]
  },
  {
   "cell_type": "code",
   "execution_count": 37,
   "metadata": {},
   "outputs": [],
   "source": [
    "fixed_label_action_df.drop(['Unnamed: 0', 'label_1', 'label_2'], axis = 1, inplace = True)"
   ]
  },
  {
   "cell_type": "code",
   "execution_count": 38,
   "metadata": {},
   "outputs": [
    {
     "data": {
      "text/html": [
       "<div>\n",
       "<table border=\"1\" class=\"dataframe\">\n",
       "  <thead>\n",
       "    <tr style=\"text-align: right;\">\n",
       "      <th></th>\n",
       "      <th>email</th>\n",
       "      <th>final_label</th>\n",
       "    </tr>\n",
       "  </thead>\n",
       "  <tbody>\n",
       "    <tr>\n",
       "      <th>0</th>\n",
       "      <td>A decision will be made this evening on whethe...</td>\n",
       "      <td>Action Required</td>\n",
       "    </tr>\n",
       "    <tr>\n",
       "      <th>1</th>\n",
       "      <td>Earlier today DPC notified the government of M...</td>\n",
       "      <td>Neither</td>\n",
       "    </tr>\n",
       "    <tr>\n",
       "      <th>2</th>\n",
       "      <td>As indicated on the voice mail, here is our id...</td>\n",
       "      <td>Action Required</td>\n",
       "    </tr>\n",
       "    <tr>\n",
       "      <th>3</th>\n",
       "      <td>There will be a meeting on Tuesday, Dec. 5th i...</td>\n",
       "      <td>Action Required</td>\n",
       "    </tr>\n",
       "    <tr>\n",
       "      <th>4</th>\n",
       "      <td>Hi - I just wanted to give you a quick run dow...</td>\n",
       "      <td>Read Later</td>\n",
       "    </tr>\n",
       "  </tbody>\n",
       "</table>\n",
       "</div>"
      ],
      "text/plain": [
       "                                               email      final_label\n",
       "0  A decision will be made this evening on whethe...  Action Required\n",
       "1  Earlier today DPC notified the government of M...          Neither\n",
       "2  As indicated on the voice mail, here is our id...  Action Required\n",
       "3  There will be a meeting on Tuesday, Dec. 5th i...  Action Required\n",
       "4  Hi - I just wanted to give you a quick run dow...       Read Later"
      ]
     },
     "execution_count": 38,
     "metadata": {},
     "output_type": "execute_result"
    }
   ],
   "source": [
    "fixed_label_action_df.head()"
   ]
  },
  {
   "cell_type": "code",
   "execution_count": 39,
   "metadata": {},
   "outputs": [
    {
     "data": {
      "text/plain": [
       "final_label\n",
       "Action Required    10\n",
       "Neither             2\n",
       "Read Later         26\n",
       "dtype: int64"
      ]
     },
     "execution_count": 39,
     "metadata": {},
     "output_type": "execute_result"
    }
   ],
   "source": [
    "fixed_label_action_df.groupby('final_label').size()"
   ]
  },
  {
   "cell_type": "code",
   "execution_count": 40,
   "metadata": {},
   "outputs": [],
   "source": [
    "df_agree = df_action[df_action['final_label'] != 'disagree']"
   ]
  },
  {
   "cell_type": "code",
   "execution_count": 41,
   "metadata": {},
   "outputs": [],
   "source": [
    "final_label_action_df = df_agree"
   ]
  },
  {
   "cell_type": "code",
   "execution_count": 42,
   "metadata": {},
   "outputs": [],
   "source": [
    "final_label_action_df = final_label_action_df.append(fixed_label_action_df)"
   ]
  },
  {
   "cell_type": "code",
   "execution_count": 43,
   "metadata": {},
   "outputs": [
    {
     "data": {
      "text/plain": [
       "final_label\n",
       "Action Required    44\n",
       "Neither             2\n",
       "Read Later         56\n",
       "dtype: int64"
      ]
     },
     "execution_count": 43,
     "metadata": {},
     "output_type": "execute_result"
    }
   ],
   "source": [
    "final_label_action_df.groupby('final_label').size()"
   ]
  },
  {
   "cell_type": "code",
   "execution_count": null,
   "metadata": {},
   "outputs": [],
   "source": []
  },
  {
   "cell_type": "code",
   "execution_count": 44,
   "metadata": {},
   "outputs": [],
   "source": [
    "combined_df = final_label_action_df\n",
    "combined_df = combined_df.append(df_old_action)"
   ]
  },
  {
   "cell_type": "code",
   "execution_count": 45,
   "metadata": {},
   "outputs": [],
   "source": [
    "combined_df.drop(['label_1', 'label_2'], axis = 1, inplace = True)"
   ]
  },
  {
   "cell_type": "code",
   "execution_count": 46,
   "metadata": {},
   "outputs": [
    {
     "data": {
      "text/html": [
       "<div>\n",
       "<table border=\"1\" class=\"dataframe\">\n",
       "  <thead>\n",
       "    <tr style=\"text-align: right;\">\n",
       "      <th></th>\n",
       "      <th>email</th>\n",
       "      <th>final_label</th>\n",
       "    </tr>\n",
       "  </thead>\n",
       "  <tbody>\n",
       "    <tr>\n",
       "      <th>3518</th>\n",
       "      <td>Simply select the type of device you would lik...</td>\n",
       "      <td>Action Required</td>\n",
       "    </tr>\n",
       "    <tr>\n",
       "      <th>1992</th>\n",
       "      <td>If you could please let us know where that sta...</td>\n",
       "      <td>Action Required</td>\n",
       "    </tr>\n",
       "    <tr>\n",
       "      <th>41</th>\n",
       "      <td>Here are a few questions I would like to submi...</td>\n",
       "      <td>Action Required</td>\n",
       "    </tr>\n",
       "  </tbody>\n",
       "</table>\n",
       "</div>"
      ],
      "text/plain": [
       "                                                  email      final_label\n",
       "3518  Simply select the type of device you would lik...  Action Required\n",
       "1992  If you could please let us know where that sta...  Action Required\n",
       "41    Here are a few questions I would like to submi...  Action Required"
      ]
     },
     "execution_count": 46,
     "metadata": {},
     "output_type": "execute_result"
    }
   ],
   "source": [
    "combined_df.sample(3)"
   ]
  },
  {
   "cell_type": "code",
   "execution_count": null,
   "metadata": {
    "collapsed": true
   },
   "outputs": [],
   "source": []
  },
  {
   "cell_type": "code",
   "execution_count": 47,
   "metadata": {
    "collapsed": true
   },
   "outputs": [],
   "source": [
    "X_turk = final_label_action_df[\"email\"]\n",
    "y_turk = final_label_action_df[\"final_label\"]\n",
    "X_train_turk, X_test_turk, y_train_turk, y_test_turk = train_test_split(X_turk, y_turk, test_size=0.15, random_state=22)"
   ]
  },
  {
   "cell_type": "code",
   "execution_count": null,
   "metadata": {},
   "outputs": [],
   "source": []
  },
  {
   "cell_type": "code",
   "execution_count": null,
   "metadata": {
    "collapsed": true
   },
   "outputs": [],
   "source": []
  },
  {
   "cell_type": "code",
   "execution_count": 48,
   "metadata": {
    "collapsed": true
   },
   "outputs": [],
   "source": [
    "# use the combined training and test sets and randomly generate the train, test sets\n",
    "X_combined = combined_df[\"email\"]\n",
    "y_combined = combined_df[\"final_label\"]\n",
    "X_train_combined, X_test_combined, y_train_combined, y_test_combined = train_test_split(X_combined, y_combined, test_size=0.15, random_state=22)"
   ]
  },
  {
   "cell_type": "code",
   "execution_count": null,
   "metadata": {
    "collapsed": true
   },
   "outputs": [],
   "source": []
  },
  {
   "cell_type": "code",
   "execution_count": 49,
   "metadata": {},
   "outputs": [
    {
     "data": {
      "text/plain": [
       "final_label\n",
       "Action Required    2072\n",
       "Neither            2623\n",
       "Read Later           56\n",
       "dtype: int64"
      ]
     },
     "execution_count": 49,
     "metadata": {},
     "output_type": "execute_result"
    }
   ],
   "source": [
    "combined_df.groupby('final_label').size()"
   ]
  },
  {
   "cell_type": "markdown",
   "metadata": {
    "collapsed": true
   },
   "source": [
    "## Cleaning\n",
    "While lots of data cleaning can happen as a result of manipulating vectorizer parameters, there is one potentially important cleaning aspect for email datasets, people’s names. Unlike, say text messages, email correspondence is more akin to letter writing, with salutations and signatures. Rather than having over 7000 person names (of those, 600 are unique) in the word vector, we will remove all names and replace them with “propername”. Names in the body of emails are identified by the nltk names corpus of “male” and “female” names. In this version of the project, the focus is more on content of emails rather than names and potential networks of the individuals involved. Removing these 600 + names is also attractive from a dimensionality reduction standpoint."
   ]
  },
  {
   "cell_type": "code",
   "execution_count": null,
   "metadata": {},
   "outputs": [],
   "source": []
  },
  {
   "cell_type": "code",
   "execution_count": 50,
   "metadata": {
    "collapsed": true
   },
   "outputs": [],
   "source": [
    "# we use this method the systematicaly test the different models and vectorizers\n",
    "\n",
    "def make_pipelines_and_test(extra_cleaning_title, X_train, y_train, X_test, y_test):\n",
    "    count_vec = CountVectorizer()\n",
    "    #count_vec = CountVectorizer(stop_words=\"english\", min_df = 4)\n",
    "    \n",
    "    pipeline_1 = Pipeline([('vect', count_vec),('clf', MultinomialNB())])\n",
    "    pipeline_2 = Pipeline([('vect', TfidfVectorizer()),('clf', MultinomialNB())])\n",
    "    pipeline_3 = Pipeline([('vect', count_vec),('clf', LinearSVC())])\n",
    "    pipeline_4 = Pipeline([('vect', TfidfVectorizer()),('clf', LinearSVC())])\n",
    "    pipeline_5 = Pipeline([('vect', count_vec),('clf', RandomForestClassifier())])\n",
    "    pipeline_6 = Pipeline([('vect', TfidfVectorizer()),('clf', RandomForestClassifier())])\n",
    "    pipelines = [pipeline_3, pipeline_4, pipeline_5, pipeline_6]\n",
    "    \n",
    "    #pipeline 5 best recall for NO\n",
    "    #pipeline 4 best(tied) recal for YES\n",
    "    \n",
    "    pipe_dict = {\n",
    "        \"pipeline_1\":(pipeline_1, \"count_vec, NB, \" + extra_cleaning_title),\n",
    "        \"pipeline_2\":(pipeline_2, \"Tfidf, NB, \" + extra_cleaning_title),\n",
    "        \"pipeline_3\":(pipeline_3, \"count_vec, LinearSVC, \" + extra_cleaning_title),\n",
    "        \"pipeline_4\":(pipeline_4, \"Tfidf, LinearSVC, \" + extra_cleaning_title),\n",
    "        \"pipeline_5\":(pipeline_5, \"count_vec, RandomForestClassifier, \" + extra_cleaning_title),\n",
    "        \"pipeline_6\":(pipeline_6, \"Tfidf, RandomForestClassifier, \" + extra_cleaning_title),\n",
    "    }\n",
    "    \n",
    "    highest_recall_score = 0\n",
    "    highest_recall_model_name = \"none\"\n",
    "    \n",
    "    for pipeline_key in pipe_dict.keys():\n",
    "        pipeline = pipe_dict[pipeline_key][0]\n",
    "        pipeline_title = pipe_dict[pipeline_key][1]\n",
    "        pipeline.fit(X_train, y_train)\n",
    "        y_pred = pipeline.predict(X_test)\n",
    "        \n",
    "        print(pipeline_title)\n",
    "        report = classification_report(y_test, y_pred)\n",
    "        print(report)\n",
    "\n",
    "\n",
    "        precision, recall, fbeta_score, support = precision_recall_fscore_support(y_test, y_pred)\n",
    "        \n",
    "        if recall.sum() > highest_recall_score:\n",
    "            highest_recall_score = recall.sum()\n",
    "            highest_recall_model_name = pipeline_title\n",
    "        \n",
    "        \n",
    "        # graphing\n",
    "        n_groups = len(recall)\n",
    "        \n",
    "        fig, ax = plt.subplots()\n",
    "        index = np.arange(n_groups)\n",
    "        bar_width = 0.35\n",
    "        opacity = 0.8\n",
    "        \n",
    "        rects1 = plt.bar(index, precision, bar_width,\n",
    "                 alpha=opacity,\n",
    "                 color='b',\n",
    "                 label='precision')\n",
    " \n",
    "        rects2 = plt.bar(index + bar_width, recall, bar_width,\n",
    "                 alpha=opacity,\n",
    "                 color='g',\n",
    "                 label='recall')\n",
    "\n",
    "        plt.legend()\n",
    "        \n",
    "        plt.xlabel('Classes')\n",
    "        plt.ylabel('Scores')\n",
    "        plt.title(pipeline_title)\n",
    "        plt.xticks(index + bar_width, ('Action Required', 'Neither', 'Read Later', ))\n",
    " \n",
    "        plt.tight_layout()\n",
    "        plt.show()\n",
    "        \n",
    "      \n",
    "        print # just for spacing\n",
    "    print (\"Summed Highest Recall Score: \" + str(highest_recall_score))\n",
    "    print (highest_recall_model_name)\n",
    "        "
   ]
  },
  {
   "cell_type": "markdown",
   "metadata": {},
   "source": [
    "## Pre-Cleaning Testing"
   ]
  },
  {
   "cell_type": "code",
   "execution_count": 51,
   "metadata": {},
   "outputs": [
    {
     "name": "stdout",
     "output_type": "stream",
     "text": [
      "count_vec, NB, nocleaning-comb\n",
      "                 precision    recall  f1-score   support\n",
      "\n",
      "Action Required       0.67      0.77      0.72       311\n",
      "        Neither       0.78      0.71      0.74       395\n",
      "     Read Later       0.00      0.00      0.00         7\n",
      "\n",
      "    avg / total       0.73      0.73      0.72       713\n",
      "\n"
     ]
    },
    {
     "name": "stderr",
     "output_type": "stream",
     "text": [
      "/opt/conda/envs/python2/lib/python2.7/site-packages/sklearn/metrics/classification.py:1113: UndefinedMetricWarning: Precision and F-score are ill-defined and being set to 0.0 in labels with no predicted samples.\n",
      "  'precision', 'predicted', average, warn_for)\n"
     ]
    },
    {
     "data": {
      "image/png": "[encoded data removed]",
      "text/plain": [
       "<matplotlib.figure.Figure at 0x7f714c1f0550>"
      ]
     },
     "metadata": {},
     "output_type": "display_data"
    },
    {
     "name": "stdout",
     "output_type": "stream",
     "text": [
      "\n",
      "count_vec, LinearSVC, nocleaning-comb\n",
      "                 precision    recall  f1-score   support\n",
      "\n",
      "Action Required       0.75      0.70      0.73       311\n",
      "        Neither       0.77      0.82      0.79       395\n",
      "     Read Later       1.00      0.14      0.25         7\n",
      "\n",
      "    avg / total       0.76      0.76      0.76       713\n",
      "\n"
     ]
    },
    {
     "data": {
      "image/png": "[encoded data removed]",
      "text/plain": [
       "<matplotlib.figure.Figure at 0x7f714c20f050>"
      ]
     },
     "metadata": {},
     "output_type": "display_data"
    },
    {
     "name": "stdout",
     "output_type": "stream",
     "text": [
      "\n",
      "Tfidf, NB, nocleaning-comb\n",
      "                 precision    recall  f1-score   support\n",
      "\n",
      "Action Required       0.74      0.59      0.66       311\n",
      "        Neither       0.72      0.84      0.77       395\n",
      "     Read Later       0.00      0.00      0.00         7\n",
      "\n",
      "    avg / total       0.72      0.73      0.72       713\n",
      "\n"
     ]
    },
    {
     "data": {
      "image/png": "[encoded data removed]",
      "text/plain": [
       "<matplotlib.figure.Figure at 0x7f714c268710>"
      ]
     },
     "metadata": {},
     "output_type": "display_data"
    },
    {
     "name": "stdout",
     "output_type": "stream",
     "text": [
      "\n",
      "count_vec, RandomForestClassifier, nocleaning-comb\n",
      "                 precision    recall  f1-score   support\n",
      "\n",
      "Action Required       0.72      0.73      0.72       311\n",
      "        Neither       0.77      0.78      0.78       395\n",
      "     Read Later       0.00      0.00      0.00         7\n",
      "\n",
      "    avg / total       0.74      0.75      0.75       713\n",
      "\n"
     ]
    },
    {
     "data": {
      "image/png": "[encoded data removed]",
      "text/plain": [
       "<matplotlib.figure.Figure at 0x7f714c181fd0>"
      ]
     },
     "metadata": {},
     "output_type": "display_data"
    },
    {
     "name": "stdout",
     "output_type": "stream",
     "text": [
      "\n",
      "Tfidf, LinearSVC, nocleaning-comb\n",
      "                 precision    recall  f1-score   support\n",
      "\n",
      "Action Required       0.77      0.71      0.74       311\n",
      "        Neither       0.78      0.84      0.81       395\n",
      "     Read Later       0.00      0.00      0.00         7\n",
      "\n",
      "    avg / total       0.77      0.77      0.77       713\n",
      "\n"
     ]
    },
    {
     "data": {
      "image/png": "[encoded data removed]",
      "text/plain": [
       "<matplotlib.figure.Figure at 0x7f714c0e2f50>"
      ]
     },
     "metadata": {},
     "output_type": "display_data"
    },
    {
     "name": "stdout",
     "output_type": "stream",
     "text": [
      "\n",
      "Tfidf, RandomForestClassifier, nocleaning-comb\n",
      "                 precision    recall  f1-score   support\n",
      "\n",
      "Action Required       0.70      0.70      0.70       311\n",
      "        Neither       0.76      0.77      0.77       395\n",
      "     Read Later       1.00      0.14      0.25         7\n",
      "\n",
      "    avg / total       0.74      0.74      0.73       713\n",
      "\n"
     ]
    },
    {
     "data": {
      "image/png": "[encoded data removed]",
      "text/plain": [
       "<matplotlib.figure.Figure at 0x7f714c31dc50>"
      ]
     },
     "metadata": {},
     "output_type": "display_data"
    },
    {
     "name": "stdout",
     "output_type": "stream",
     "text": [
      "\n",
      "Summed Highest Recall Score: 1.66660658321\n",
      "count_vec, LinearSVC, nocleaning-comb\n"
     ]
    }
   ],
   "source": [
    "make_pipelines_and_test(\"nocleaning-comb\", X_train_combined, y_train_combined, X_test_combined, y_test_combined)"
   ]
  },
  {
   "cell_type": "markdown",
   "metadata": {},
   "source": [
    "### Best in Non-cleaned Combinded DF\n",
    "![caption](files/graphics/count_vec, LinearSVC, nocleaning-comb.png)\n",
    "Summed Highest Recall Score: 1.66660658321\n",
    "\n",
    "count_vec, LinearSVC, nocleaning-comb"
   ]
  },
  {
   "cell_type": "code",
   "execution_count": 52,
   "metadata": {},
   "outputs": [
    {
     "name": "stdout",
     "output_type": "stream",
     "text": [
      "count_vec, NB, nocleaning-turk\n",
      "                 precision    recall  f1-score   support\n",
      "\n",
      "Action Required       0.20      0.17      0.18         6\n",
      "        Neither       0.00      0.00      0.00         0\n",
      "     Read Later       0.50      0.50      0.50        10\n",
      "\n",
      "    avg / total       0.39      0.38      0.38        16\n",
      "\n"
     ]
    },
    {
     "name": "stderr",
     "output_type": "stream",
     "text": [
      "/opt/conda/envs/python2/lib/python2.7/site-packages/sklearn/metrics/classification.py:1115: UndefinedMetricWarning: Recall and F-score are ill-defined and being set to 0.0 in labels with no true samples.\n",
      "  'recall', 'true', average, warn_for)\n"
     ]
    },
    {
     "data": {
      "image/png": "[encoded data removed]",
      "text/plain": [
       "<matplotlib.figure.Figure at 0x7f714c0cda10>"
      ]
     },
     "metadata": {},
     "output_type": "display_data"
    },
    {
     "name": "stdout",
     "output_type": "stream",
     "text": [
      "\n",
      "count_vec, LinearSVC, nocleaning-turk\n",
      "                 precision    recall  f1-score   support\n",
      "\n",
      "Action Required       0.43      0.50      0.46         6\n",
      "     Read Later       0.67      0.60      0.63        10\n",
      "\n",
      "    avg / total       0.58      0.56      0.57        16\n",
      "\n"
     ]
    },
    {
     "data": {
      "image/png": "[encoded data removed]",
      "text/plain": [
       "<matplotlib.figure.Figure at 0x7f714bfda910>"
      ]
     },
     "metadata": {},
     "output_type": "display_data"
    },
    {
     "name": "stdout",
     "output_type": "stream",
     "text": [
      "\n",
      "Tfidf, NB, nocleaning-turk\n",
      "                 precision    recall  f1-score   support\n",
      "\n",
      "Action Required       0.50      0.17      0.25         6\n",
      "     Read Later       0.64      0.90      0.75        10\n",
      "\n",
      "    avg / total       0.59      0.62      0.56        16\n",
      "\n"
     ]
    },
    {
     "data": {
      "image/png": "[encoded data removed]",
      "text/plain": [
       "<matplotlib.figure.Figure at 0x7f714c0c4290>"
      ]
     },
     "metadata": {},
     "output_type": "display_data"
    },
    {
     "name": "stdout",
     "output_type": "stream",
     "text": [
      "\n",
      "count_vec, RandomForestClassifier, nocleaning-turk\n",
      "                 precision    recall  f1-score   support\n",
      "\n",
      "Action Required       0.14      0.17      0.15         6\n",
      "     Read Later       0.44      0.40      0.42        10\n",
      "\n",
      "    avg / total       0.33      0.31      0.32        16\n",
      "\n"
     ]
    },
    {
     "data": {
      "image/png": "[encoded data removed]",
      "text/plain": [
       "<matplotlib.figure.Figure at 0x7f714c535d10>"
      ]
     },
     "metadata": {},
     "output_type": "display_data"
    },
    {
     "name": "stdout",
     "output_type": "stream",
     "text": [
      "\n",
      "Tfidf, LinearSVC, nocleaning-turk\n",
      "                 precision    recall  f1-score   support\n",
      "\n",
      "Action Required       0.25      0.17      0.20         6\n",
      "     Read Later       0.58      0.70      0.64        10\n",
      "\n",
      "    avg / total       0.46      0.50      0.47        16\n",
      "\n"
     ]
    },
    {
     "data": {
      "image/png": "[encoded data removed]",
      "text/plain": [
       "<matplotlib.figure.Figure at 0x7f71466ae3d0>"
      ]
     },
     "metadata": {},
     "output_type": "display_data"
    },
    {
     "name": "stdout",
     "output_type": "stream",
     "text": [
      "\n",
      "Tfidf, RandomForestClassifier, nocleaning-turk\n",
      "                 precision    recall  f1-score   support\n",
      "\n",
      "Action Required       0.36      0.67      0.47         6\n",
      "     Read Later       0.60      0.30      0.40        10\n",
      "\n",
      "    avg / total       0.51      0.44      0.43        16\n",
      "\n"
     ]
    },
    {
     "data": {
      "image/png": "[encoded data removed]",
      "text/plain": [
       "<matplotlib.figure.Figure at 0x7f714c6ccd10>"
      ]
     },
     "metadata": {},
     "output_type": "display_data"
    },
    {
     "name": "stdout",
     "output_type": "stream",
     "text": [
      "\n",
      "Summed Highest Recall Score: 1.1\n",
      "count_vec, LinearSVC, nocleaning-turk\n"
     ]
    }
   ],
   "source": [
    "make_pipelines_and_test(\"nocleaning-turk\", X_train_turk, y_train_turk, X_test_turk,  y_test_turk)"
   ]
  },
  {
   "cell_type": "markdown",
   "metadata": {},
   "source": [
    "## Best in Non-cleaned Truk Only\n",
    "![caption](files/graphics/Tfidf, RandomForestClassifier, nocleaning-turk.png)\n",
    "Summed Highest Recall Score: 1.13333333333\n",
    "\n",
    "count_vec, RandomForestClassifier, nocleaning-turk"
   ]
  },
  {
   "cell_type": "markdown",
   "metadata": {},
   "source": [
    "## Data Cleaning\n",
    "While lots of data cleaning can happen as a result of manipulating vectorizer parameters, there is one potentially important cleaning aspect for email datasets, people’s names. Unlike, say text messages, email correspondence is more akin to letter writing, with salutations and signatures. Rather than having over 7000 person names (of those, 600 are unique) in the word vector, we will remove all names and replace them with “propername”. Names in the body of emails are identified by the nltk names corpus of “male” and “female” names. In this version of the project, the focus is more on content of emails rather than names and potential networks of the individuals involved. Removing these 600 + names is also attractive from a dimensionality reduction standpoint."
   ]
  },
  {
   "cell_type": "code",
   "execution_count": 53,
   "metadata": {
    "collapsed": true
   },
   "outputs": [],
   "source": [
    "all_string_data = \"\""
   ]
  },
  {
   "cell_type": "code",
   "execution_count": 54,
   "metadata": {},
   "outputs": [
    {
     "data": {
      "text/plain": [
       "0      None\n",
       "2      None\n",
       "3      None\n",
       "5      None\n",
       "7      None\n",
       "9      None\n",
       "10     None\n",
       "12     None\n",
       "13     None\n",
       "14     None\n",
       "15     None\n",
       "16     None\n",
       "17     None\n",
       "18     None\n",
       "20     None\n",
       "21     None\n",
       "22     None\n",
       "23     None\n",
       "24     None\n",
       "26     None\n",
       "27     None\n",
       "29     None\n",
       "31     None\n",
       "32     None\n",
       "33     None\n",
       "35     None\n",
       "39     None\n",
       "40     None\n",
       "41     None\n",
       "42     None\n",
       "       ... \n",
       "962    None\n",
       "963    None\n",
       "964    None\n",
       "965    None\n",
       "966    None\n",
       "967    None\n",
       "968    None\n",
       "969    None\n",
       "970    None\n",
       "971    None\n",
       "972    None\n",
       "973    None\n",
       "974    None\n",
       "975    None\n",
       "976    None\n",
       "977    None\n",
       "978    None\n",
       "979    None\n",
       "980    None\n",
       "981    None\n",
       "982    None\n",
       "983    None\n",
       "984    None\n",
       "985    None\n",
       "986    None\n",
       "987    None\n",
       "988    None\n",
       "989    None\n",
       "990    None\n",
       "991    None\n",
       "Name: email, dtype: object"
      ]
     },
     "execution_count": 54,
     "metadata": {},
     "output_type": "execute_result"
    }
   ],
   "source": [
    "def getAllContentOf (row):\n",
    "    global all_string_data\n",
    "    new = all_string_data + row\n",
    "    all_string_data = new\n",
    "\n",
    "# get a single string that conatins the bodies of all the dataset emails\n",
    "combined_df['email'].apply(getAllContentOf)"
   ]
  },
  {
   "cell_type": "code",
   "execution_count": null,
   "metadata": {},
   "outputs": [],
   "source": []
  },
  {
   "cell_type": "code",
   "execution_count": 55,
   "metadata": {},
   "outputs": [],
   "source": [
    "content_nparray = combined_df[\"email\"].values\n",
    "content_list = content_nparray.tolist()\n",
    "content_string = ''.join(content_list)"
   ]
  },
  {
   "cell_type": "code",
   "execution_count": null,
   "metadata": {},
   "outputs": [],
   "source": []
  },
  {
   "cell_type": "code",
   "execution_count": 56,
   "metadata": {},
   "outputs": [
    {
     "name": "stdout",
     "output_type": "stream",
     "text": [
      "Requirement already satisfied: nltk in /opt/conda/envs/python2/lib/python2.7/site-packages\n",
      "Requirement already satisfied: six in /opt/conda/envs/python2/lib/python2.7/site-packages (from nltk)\n",
      "NLTK Downloader\n",
      "---------------------------------------------------------------------------\n",
      "    d) Download   l) List    u) Update   c) Config   h) Help   q) Quit\n",
      "---------------------------------------------------------------------------\n",
      "Downloader> d names\n",
      "    Downloading package names to /home/jovyan/nltk_data...\n",
      "      Package names is already up-to-date!\n",
      "\n",
      "---------------------------------------------------------------------------\n",
      "    d) Download   l) List    u) Update   c) Config   h) Help   q) Quit\n",
      "---------------------------------------------------------------------------\n",
      "Downloader> q\n"
     ]
    },
    {
     "data": {
      "text/plain": [
       "True"
      ]
     },
     "execution_count": 56,
     "metadata": {},
     "output_type": "execute_result"
    }
   ],
   "source": [
    "!pip install nltk\n",
    "import nltk\n",
    "nltk.download()"
   ]
  },
  {
   "cell_type": "code",
   "execution_count": 57,
   "metadata": {
    "collapsed": true
   },
   "outputs": [],
   "source": [
    "from nltk.corpus import names\n",
    "all_names = [str(name) for name in names.words(\"male.txt\")] + [str(name) for name in names.words(\"female.txt\")]"
   ]
  },
  {
   "cell_type": "code",
   "execution_count": 58,
   "metadata": {},
   "outputs": [],
   "source": [
    "# Generate a list of all the names that occure in the emails\n",
    "all_names = [str(name) for name in names.words(\"male.txt\")] + [str(name) for name in names.words(\"female.txt\")]"
   ]
  },
  {
   "cell_type": "code",
   "execution_count": 59,
   "metadata": {},
   "outputs": [
    {
     "data": {
      "text/plain": [
       "7944"
      ]
     },
     "execution_count": 59,
     "metadata": {},
     "output_type": "execute_result"
    }
   ],
   "source": [
    "len(all_names)"
   ]
  },
  {
   "cell_type": "code",
   "execution_count": null,
   "metadata": {
    "collapsed": true
   },
   "outputs": [],
   "source": []
  },
  {
   "cell_type": "code",
   "execution_count": 68,
   "metadata": {
    "collapsed": true
   },
   "outputs": [],
   "source": [
    "# Look at each email, if it contains a person's name, remove it.\n",
    "people_in_the_list = []\n",
    "def find_all_person_names(row):\n",
    "    content = row['email']\n",
    "    for word in content.split(' '):\n",
    "        if word in all_names:\n",
    "            people_in_the_list.append(word)\n",
    "\n",
    "def remove_all_person_names(row):\n",
    "    content = row['email']\n",
    "    content_list = content.split(' ')\n",
    "    current_index = 0\n",
    "    for word in content_list:\n",
    "        if word in all_names:\n",
    "            content_list[current_index] = \"propername\"\n",
    "        current_index += 1\n",
    "    \n",
    "    content_string = ' '.join(content_list)\n",
    "    row['email'] = content_string\n",
    "    #print content_string\n",
    "    return row['email']"
   ]
  },
  {
   "cell_type": "code",
   "execution_count": 69,
   "metadata": {
    "scrolled": true
   },
   "outputs": [],
   "source": [
    "combined_df['email'] = combined_df.apply(remove_all_person_names, axis = 1)"
   ]
  },
  {
   "cell_type": "code",
   "execution_count": 70,
   "metadata": {},
   "outputs": [
    {
     "data": {
      "text/plain": [
       "0      None\n",
       "2      None\n",
       "3      None\n",
       "5      None\n",
       "7      None\n",
       "9      None\n",
       "10     None\n",
       "12     None\n",
       "13     None\n",
       "14     None\n",
       "15     None\n",
       "16     None\n",
       "17     None\n",
       "18     None\n",
       "20     None\n",
       "21     None\n",
       "22     None\n",
       "23     None\n",
       "24     None\n",
       "26     None\n",
       "27     None\n",
       "29     None\n",
       "31     None\n",
       "32     None\n",
       "33     None\n",
       "35     None\n",
       "39     None\n",
       "40     None\n",
       "41     None\n",
       "42     None\n",
       "       ... \n",
       "962    None\n",
       "963    None\n",
       "964    None\n",
       "965    None\n",
       "966    None\n",
       "967    None\n",
       "968    None\n",
       "969    None\n",
       "970    None\n",
       "971    None\n",
       "972    None\n",
       "973    None\n",
       "974    None\n",
       "975    None\n",
       "976    None\n",
       "977    None\n",
       "978    None\n",
       "979    None\n",
       "980    None\n",
       "981    None\n",
       "982    None\n",
       "983    None\n",
       "984    None\n",
       "985    None\n",
       "986    None\n",
       "987    None\n",
       "988    None\n",
       "989    None\n",
       "990    None\n",
       "991    None\n",
       "dtype: object"
      ]
     },
     "execution_count": 70,
     "metadata": {},
     "output_type": "execute_result"
    }
   ],
   "source": [
    "# Verify that there are no people names left in the eamil bodies. \n",
    "people_in_the_list = []\n",
    "combined_df.apply(find_all_person_names, axis = 1)"
   ]
  },
  {
   "cell_type": "code",
   "execution_count": 71,
   "metadata": {},
   "outputs": [
    {
     "data": {
      "text/plain": [
       "0"
      ]
     },
     "execution_count": 71,
     "metadata": {},
     "output_type": "execute_result"
    }
   ],
   "source": [
    "# Verified, there are no people names left\n",
    "len(people_in_the_list)"
   ]
  },
  {
   "cell_type": "markdown",
   "metadata": {},
   "source": [
    "## More Pipelines"
   ]
  },
  {
   "cell_type": "markdown",
   "metadata": {},
   "source": [
    "Re run the pipelines with the cleaned dataset.\n",
    "the goal is to minimize the number of false positives for both spam and action.\n",
    "thus the key metric in this action dataset is \"recall\", we want to maximize it.\n",
    "LinearSVC modes had more consistent recall rates for Yes’s and No’s, both in the 70s\n",
    "While Random forest and NB had one recall score in the 60s with another in the 80s.\n",
    "the LinearSVC, with tfidf was selected because it was most consistent,\n",
    "with both recall rates of 75%\n",
    "Furthermore, iOS does not current support NB via sklearn, so it is only shown here for comparison."
   ]
  },
  {
   "cell_type": "code",
   "execution_count": null,
   "metadata": {},
   "outputs": [],
   "source": []
  },
  {
   "cell_type": "code",
   "execution_count": 64,
   "metadata": {},
   "outputs": [],
   "source": [
    "X_combined_cleaned = combined_df[\"email\"]\n",
    "y_combined_cleaned = combined_df[\"final_label\"]"
   ]
  },
  {
   "cell_type": "code",
   "execution_count": 65,
   "metadata": {},
   "outputs": [
    {
     "name": "stdout",
     "output_type": "stream",
     "text": [
      "count_vec, NB, cleaned\n",
      "                 precision    recall  f1-score   support\n",
      "\n",
      "Action Required       0.67      0.77      0.72       311\n",
      "        Neither       0.78      0.70      0.74       395\n",
      "     Read Later       0.00      0.00      0.00         7\n",
      "\n",
      "    avg / total       0.73      0.73      0.72       713\n",
      "\n"
     ]
    },
    {
     "data": {
      "image/png": "[encoded data removed]",
      "text/plain": [
       "<matplotlib.figure.Figure at 0x7f714c689c90>"
      ]
     },
     "metadata": {},
     "output_type": "display_data"
    },
    {
     "name": "stdout",
     "output_type": "stream",
     "text": [
      "\n",
      "count_vec, LinearSVC, cleaned\n",
      "                 precision    recall  f1-score   support\n",
      "\n",
      "Action Required       0.75      0.69      0.72       311\n",
      "        Neither       0.76      0.82      0.79       395\n",
      "     Read Later       1.00      0.14      0.25         7\n",
      "\n",
      "    avg / total       0.76      0.76      0.76       713\n",
      "\n"
     ]
    },
    {
     "data": {
      "image/png": "[encoded data removed]",
      "text/plain": [
       "<matplotlib.figure.Figure at 0x7f7146730150>"
      ]
     },
     "metadata": {},
     "output_type": "display_data"
    },
    {
     "name": "stdout",
     "output_type": "stream",
     "text": [
      "\n",
      "Tfidf, NB, cleaned\n",
      "                 precision    recall  f1-score   support\n",
      "\n",
      "Action Required       0.74      0.59      0.66       311\n",
      "        Neither       0.71      0.84      0.77       395\n",
      "     Read Later       0.00      0.00      0.00         7\n",
      "\n",
      "    avg / total       0.72      0.72      0.71       713\n",
      "\n"
     ]
    },
    {
     "data": {
      "image/png": "[encoded data removed]",
      "text/plain": [
       "<matplotlib.figure.Figure at 0x7f714c6ac3d0>"
      ]
     },
     "metadata": {},
     "output_type": "display_data"
    },
    {
     "name": "stdout",
     "output_type": "stream",
     "text": [
      "\n",
      "count_vec, RandomForestClassifier, cleaned\n",
      "                 precision    recall  f1-score   support\n",
      "\n",
      "Action Required       0.71      0.69      0.70       311\n",
      "        Neither       0.76      0.79      0.77       395\n",
      "     Read Later       0.00      0.00      0.00         7\n",
      "\n",
      "    avg / total       0.73      0.74      0.73       713\n",
      "\n"
     ]
    },
    {
     "data": {
      "image/png": "[encoded data removed]",
      "text/plain": [
       "<matplotlib.figure.Figure at 0x7f71466b5a10>"
      ]
     },
     "metadata": {},
     "output_type": "display_data"
    },
    {
     "name": "stdout",
     "output_type": "stream",
     "text": [
      "\n",
      "Tfidf, LinearSVC, cleaned\n",
      "                 precision    recall  f1-score   support\n",
      "\n",
      "Action Required       0.77      0.71      0.74       311\n",
      "        Neither       0.78      0.84      0.81       395\n",
      "     Read Later       0.00      0.00      0.00         7\n",
      "\n",
      "    avg / total       0.77      0.78      0.77       713\n",
      "\n"
     ]
    },
    {
     "data": {
      "image/png": "[encoded data removed]",
      "text/plain": [
       "<matplotlib.figure.Figure at 0x7f7143b417d0>"
      ]
     },
     "metadata": {},
     "output_type": "display_data"
    },
    {
     "name": "stdout",
     "output_type": "stream",
     "text": [
      "\n",
      "Tfidf, RandomForestClassifier, cleaned\n",
      "                 precision    recall  f1-score   support\n",
      "\n",
      "Action Required       0.67      0.76      0.71       311\n",
      "        Neither       0.78      0.71      0.75       395\n",
      "     Read Later       0.00      0.00      0.00         7\n",
      "\n",
      "    avg / total       0.73      0.73      0.72       713\n",
      "\n"
     ]
    },
    {
     "data": {
      "image/png": "[encoded data removed]",
      "text/plain": [
       "<matplotlib.figure.Figure at 0x7f7143afb850>"
      ]
     },
     "metadata": {},
     "output_type": "display_data"
    },
    {
     "name": "stdout",
     "output_type": "stream",
     "text": [
      "\n",
      "Summed Highest Recall Score: 1.65764406947\n",
      "count_vec, LinearSVC, cleaned\n"
     ]
    }
   ],
   "source": [
    "X_train_combined_cleaned, X_test_combined_cleaned, y_train_combined_cleaned, y_test_combined_cleaned = train_test_split(X_combined_cleaned, y_combined_cleaned, test_size=0.15, random_state=22)\n",
    "make_pipelines_and_test(\"cleaned\", X_train_combined_cleaned, y_train_combined_cleaned, X_test_combined_cleaned, y_test_combined_cleaned)"
   ]
  },
  {
   "cell_type": "markdown",
   "metadata": {},
   "source": [
    "## Best in Cleaned Combined Only\n",
    "![caption](files/graphics/count_vec, LinearSVC, cleaned.png)\n",
    "Summed Highest Recall Score: 1.65764406947\n",
    "\n",
    "count_vec, LinearSVC, cleaned"
   ]
  },
  {
   "cell_type": "code",
   "execution_count": null,
   "metadata": {
    "collapsed": true
   },
   "outputs": [],
   "source": []
  },
  {
   "cell_type": "code",
   "execution_count": null,
   "metadata": {
    "collapsed": true
   },
   "outputs": [],
   "source": []
  },
  {
   "cell_type": "code",
   "execution_count": null,
   "metadata": {
    "collapsed": true
   },
   "outputs": [],
   "source": []
  },
  {
   "cell_type": "code",
   "execution_count": null,
   "metadata": {
    "collapsed": true
   },
   "outputs": [],
   "source": []
  },
  {
   "cell_type": "code",
   "execution_count": 66,
   "metadata": {},
   "outputs": [
    {
     "ename": "NameError",
     "evalue": "name 'X_train' is not defined",
     "output_type": "error",
     "traceback": [
      "\u001b[0;31m\u001b[0m",
      "\u001b[0;31mNameError\u001b[0mTraceback (most recent call last)",
      "\u001b[0;32m<ipython-input-66-7c8449290ad1>\u001b[0m in \u001b[0;36m<module>\u001b[0;34m()\u001b[0m\n\u001b[1;32m     23\u001b[0m \u001b[0;31m# ask about scoring funciton for recall rate\u001b[0m\u001b[0;34m\u001b[0m\u001b[0;34m\u001b[0m\u001b[0m\n\u001b[1;32m     24\u001b[0m \u001b[0;34m\u001b[0m\u001b[0m\n\u001b[0;32m---> 25\u001b[0;31m \u001b[0mgs_pipe\u001b[0m\u001b[0;34m.\u001b[0m\u001b[0mfit\u001b[0m\u001b[0;34m(\u001b[0m\u001b[0mX_train\u001b[0m\u001b[0;34m,\u001b[0m \u001b[0my_train\u001b[0m\u001b[0;34m.\u001b[0m\u001b[0mravel\u001b[0m\u001b[0;34m(\u001b[0m\u001b[0;34m)\u001b[0m\u001b[0;34m)\u001b[0m\u001b[0;34m\u001b[0m\u001b[0m\n\u001b[0m\u001b[1;32m     26\u001b[0m \u001b[0;34m\u001b[0m\u001b[0m\n\u001b[1;32m     27\u001b[0m \u001b[0;31m#tuned_parameters = [{'C': [0.001, 0.01, 0.1, 1, 5, 10, 100]}]\u001b[0m\u001b[0;34m\u001b[0m\u001b[0;34m\u001b[0m\u001b[0m\n",
      "\u001b[0;31mNameError\u001b[0m: name 'X_train' is not defined"
     ]
    }
   ],
   "source": [
    "# after examnining several pipelines, we grideasrch for optimal parameters.\n",
    "params = {\n",
    "    'vect__stop_words': [None, \"english\"],\n",
    "   # 'vect__ngram_range': [(1,2), (2,4), (3,10)],\n",
    "    'vect__strip_accents': ['unicode', None],\n",
    "    'vect__analyzer': ['word', 'char', 'char_wb'],\n",
    "  #  'vect__lowercase' : [True, False],\n",
    " #   'vect__max_df': [0.25, 0.5, 1.0],\n",
    "#    'clf__n_estimators': [5,10,15,20],\n",
    "    'clf__criterion': ['gini', 'entropy'],\n",
    "#   'clf__max_features': ['auto', 'log2', None],\n",
    " #   'clf__bootstrap': [True, False],\n",
    " #   'clf__max_depth': [None, 5, 10, 50]\n",
    "}\n",
    "pipeline_5 = Pipeline([('vect', CountVectorizer()),('clf', RandomForestClassifier())])\n",
    "\n",
    "\n",
    "gs_pipe = GridSearchCV(pipeline_5,\n",
    "                         param_grid=params,\n",
    "                         cv = ShuffleSplit(),\n",
    "                          n_jobs = -1, verbose=1)\n",
    "\n",
    "# ask about scoring funciton for recall rate\n",
    "\n",
    "gs_pipe.fit(X_train, y_train.ravel())\n",
    "\n",
    "#tuned_parameters = [{'C': [0.001, 0.01, 0.1, 1, 5, 10, 100]}]\n",
    "#clf = GridSearchCV(SVC(kernel='linear'), tuned_parameters, cv=10, scoring='accuracy')\n",
    "#clf.fit(X_train, y_train)\n",
    "#pd.DataFrame(clf.cv_results_)\n",
    "\n"
   ]
  },
  {
   "cell_type": "code",
   "execution_count": null,
   "metadata": {
    "collapsed": true
   },
   "outputs": [],
   "source": [
    "gs_pipe.best_score_"
   ]
  },
  {
   "cell_type": "code",
   "execution_count": null,
   "metadata": {
    "collapsed": true
   },
   "outputs": [],
   "source": [
    "gs_pipe.best_estimator_.named_steps"
   ]
  },
  {
   "cell_type": "code",
   "execution_count": null,
   "metadata": {
    "collapsed": true
   },
   "outputs": [],
   "source": [
    "gs_pipe_results = pd.DataFrame(gs_pipe.cv_results_)\n",
    "gs_pipe_results.sort_values('rank_test_score', ascending=True).T"
   ]
  },
  {
   "cell_type": "code",
   "execution_count": null,
   "metadata": {
    "collapsed": true
   },
   "outputs": [],
   "source": []
  },
  {
   "cell_type": "code",
   "execution_count": null,
   "metadata": {
    "collapsed": true
   },
   "outputs": [],
   "source": [
    "# predict the action catagory of imput text using the best model and vecotrizer,\n",
    "# as determined by the pipeline gridsearch\n",
    "\n",
    "class predict_catagory:\n",
    "        \n",
    "    def __init__(self, pages_df_with_cat):\n",
    "        \n",
    "        self.model_ready = False\n",
    "        self.vectorizer = None\n",
    "        self.X = None\n",
    "        self.pages_df_with_cat = pages_df_with_cat\n",
    "        self.df_text = None\n",
    "        self.model = None\n",
    "    \n",
    "    def setup(self):\n",
    "\n",
    "        from sklearn.feature_extraction.text import CountVectorizer\n",
    "        import pandas as pd\n",
    "        # todo update this with gridsearched params\n",
    "        self.vectorizer = CountVectorizer(stop_words=\"english\", min_df = 4)\n",
    "        \n",
    "        #print (self.pages_df_with_cat)\n",
    "        self.X = self.vectorizer.fit_transform(self.pages_df_with_cat['content'])\n",
    "        self.df_text = pd.DataFrame(self.X.toarray(), columns=self.vectorizer.get_feature_names())\n",
    "        self.df_text.index = self.pages_df_with_cat['action']\n",
    "        #print self.df_text\n",
    "        model = RandomForestClassifier()\n",
    "        self.model = model.fit(self.df_text, self.df_text.index)\n",
    "        \n",
    "        \n",
    "        # save the model for iOS Core ML\n",
    "        words = open('action_words_ordered.txt', 'w')\n",
    "        for feature in self.vectorizer.get_feature_names():\n",
    "            words.write(feature.encode('utf-8') + '\\n')\n",
    "        words.close()\n",
    "       \n",
    "        coreml_model = coremltools.converters.sklearn.convert(model, \"message\", 'label')\n",
    "        coreml_model.save('ActionMessageClassifier.mlmodel')\n",
    "        \n",
    "        self.model_ready = True\n",
    "        \n",
    "    def find_category_model_ready(self, test_text):\n",
    "        import pandas as pd\n",
    "        \n",
    "        extraxted_text = test_text\n",
    "        if extraxted_text != \"\":\n",
    "            \n",
    "            self.pages_df_with_cat.loc[len(self.pages_df_with_cat),] = ['unknown', extraxted_text]\n",
    "\n",
    "            X = self.vectorizer.transform(self.pages_df_with_cat['content'])\n",
    "            self.df_text = pd.DataFrame(X.toarray(), columns=self.vectorizer.get_feature_names())\n",
    "            self.df_text.index = self.pages_df_with_cat['action']\n",
    "            self.df_text = self.df_text.tail(1)\n",
    "\n",
    "            predicted_category = self.model.predict(self.df_text)\n",
    "\n",
    "            string_of_category = predicted_category[0]\n",
    "            \n",
    "            return string_of_category\n",
    "        else:\n",
    "            print (\"No text; can't make predictions.\")\n",
    "            return \"\"\n",
    "    \n",
    "    def find_category(self, test_text): \n",
    "        if self.model_ready == False:\n",
    "            self.setup()\n",
    "        \n",
    "        predicted_category = self.find_category_model_ready(test_text)\n",
    "        return predicted_category   "
   ]
  },
  {
   "cell_type": "code",
   "execution_count": null,
   "metadata": {
    "collapsed": true
   },
   "outputs": [],
   "source": []
  },
  {
   "cell_type": "code",
   "execution_count": null,
   "metadata": {
    "collapsed": true
   },
   "outputs": [],
   "source": []
  },
  {
   "cell_type": "code",
   "execution_count": null,
   "metadata": {
    "collapsed": true
   },
   "outputs": [],
   "source": [
    "predict_category_class = predict_catagory(df)\n",
    "predict_category_class.setup()"
   ]
  },
  {
   "cell_type": "code",
   "execution_count": null,
   "metadata": {},
   "outputs": [],
   "source": [
    "search_text = \"As you know, last year's congress attracted over 200 attendees and provided the ideal opportunity for leading institutions to discuss the key issues and latest developments in pricing, trading and risk management strategies for power and gas\"\n",
    "prediction = predict_category_class.find_category(test_text = search_text)\n",
    "print ('Predicted Category: ' + prediction)"
   ]
  },
  {
   "cell_type": "code",
   "execution_count": null,
   "metadata": {
    "collapsed": true
   },
   "outputs": [],
   "source": []
  },
  {
   "cell_type": "code",
   "execution_count": null,
   "metadata": {
    "collapsed": true
   },
   "outputs": [],
   "source": []
  },
  {
   "cell_type": "code",
   "execution_count": null,
   "metadata": {
    "collapsed": true
   },
   "outputs": [],
   "source": []
  },
  {
   "cell_type": "code",
   "execution_count": null,
   "metadata": {
    "collapsed": true
   },
   "outputs": [],
   "source": []
  },
  {
   "cell_type": "code",
   "execution_count": null,
   "metadata": {
    "collapsed": true
   },
   "outputs": [],
   "source": []
  },
  {
   "cell_type": "code",
   "execution_count": null,
   "metadata": {
    "collapsed": true
   },
   "outputs": [],
   "source": []
  },
  {
   "cell_type": "code",
   "execution_count": null,
   "metadata": {
    "collapsed": true
   },
   "outputs": [],
   "source": [
    "# or use specific test set as the test set\n",
    "df_test = pd.read_table(\"testSet.txt\", header=None)\n",
    "df_test.columns = [\"action\",\"content\"]\n",
    "X_train = df[\"content\"]\n",
    "y_train = df[\"action\"]\n",
    "X_test = df_test[\"content\"]\n",
    "y_test = df_test[\"action\"]"
   ]
  },
  {
   "cell_type": "code",
   "execution_count": null,
   "metadata": {
    "collapsed": true
   },
   "outputs": [],
   "source": []
  },
  {
   "cell_type": "code",
   "execution_count": null,
   "metadata": {
    "collapsed": true
   },
   "outputs": [],
   "source": []
  },
  {
   "cell_type": "code",
   "execution_count": null,
   "metadata": {
    "collapsed": true
   },
   "outputs": [],
   "source": []
  },
  {
   "cell_type": "code",
   "execution_count": null,
   "metadata": {
    "collapsed": true
   },
   "outputs": [],
   "source": []
  },
  {
   "cell_type": "code",
   "execution_count": null,
   "metadata": {
    "collapsed": true
   },
   "outputs": [],
   "source": []
  },
  {
   "cell_type": "code",
   "execution_count": null,
   "metadata": {
    "collapsed": true
   },
   "outputs": [],
   "source": []
  },
  {
   "cell_type": "code",
   "execution_count": null,
   "metadata": {
    "collapsed": true
   },
   "outputs": [],
   "source": []
  },
  {
   "cell_type": "code",
   "execution_count": null,
   "metadata": {
    "collapsed": true
   },
   "outputs": [],
   "source": []
  },
  {
   "cell_type": "code",
   "execution_count": null,
   "metadata": {
    "collapsed": true
   },
   "outputs": [],
   "source": []
  },
  {
   "cell_type": "code",
   "execution_count": null,
   "metadata": {
    "collapsed": true
   },
   "outputs": [],
   "source": []
  },
  {
   "cell_type": "code",
   "execution_count": null,
   "metadata": {
    "collapsed": true
   },
   "outputs": [],
   "source": []
  },
  {
   "cell_type": "code",
   "execution_count": null,
   "metadata": {
    "collapsed": true
   },
   "outputs": [],
   "source": []
  },
  {
   "cell_type": "code",
   "execution_count": null,
   "metadata": {
    "collapsed": true
   },
   "outputs": [],
   "source": []
  },
  {
   "cell_type": "code",
   "execution_count": null,
   "metadata": {
    "collapsed": true
   },
   "outputs": [],
   "source": []
  },
  {
   "cell_type": "code",
   "execution_count": null,
   "metadata": {
    "collapsed": true
   },
   "outputs": [],
   "source": []
  },
  {
   "cell_type": "code",
   "execution_count": null,
   "metadata": {
    "collapsed": true
   },
   "outputs": [],
   "source": [
    "# todo ask named steps feature importance, do that, trees only! Dave says"
   ]
  },
  {
   "cell_type": "code",
   "execution_count": null,
   "metadata": {
    "collapsed": true
   },
   "outputs": [],
   "source": [
    "# todo are longer emails more likely to be actionable"
   ]
  },
  {
   "cell_type": "code",
   "execution_count": null,
   "metadata": {
    "collapsed": true
   },
   "outputs": [],
   "source": [
    "#!pip install collective.recipe.libsvm\n",
    "#!pip install libsvm\n",
    "#!pip install --upgrade pip\n",
    "#!pip install -U coremltools\n",
    "#!pip install coremltools.converters\n",
    "#!pip install xgboost"
   ]
  },
  {
   "cell_type": "code",
   "execution_count": null,
   "metadata": {
    "collapsed": true
   },
   "outputs": [],
   "source": []
  },
  {
   "cell_type": "code",
   "execution_count": null,
   "metadata": {
    "collapsed": true
   },
   "outputs": [],
   "source": [
    "pipeline_5 = Pipeline([\n",
    "    ('vect', CountVectorizer()),\n",
    "    ('clf', RandomForestClassifier())])\n",
    "\n",
    "pipeline_5.fit(X_train, y_train)\n",
    "\n",
    "search_text = \"Send us an email at support@evite.citysearch.com.\"\n",
    "test = pd.Series(search_text)\n",
    "\n",
    "y_pred = pipeline_5.predict(test)\n",
    "y_pred"
   ]
  },
  {
   "cell_type": "code",
   "execution_count": null,
   "metadata": {
    "collapsed": true
   },
   "outputs": [],
   "source": []
  }
 ],
 "metadata": {
  "kernelspec": {
   "display_name": "Python 2",
   "language": "python",
   "name": "python2"
  },
  "language_info": {
   "codemirror_mode": {
    "name": "ipython",
    "version": 2
   },
   "file_extension": ".py",
   "mimetype": "text/x-python",
   "name": "python",
   "nbconvert_exporter": "python",
   "pygments_lexer": "ipython2",
   "version": "2.7.13"
  }
 },
 "nbformat": 4,
 "nbformat_minor": 2
}
